{
  "nbformat": 4,
  "nbformat_minor": 0,
  "metadata": {
    "colab": {
      "provenance": []
    },
    "kernelspec": {
      "name": "python3",
      "display_name": "Python 3"
    },
    "language_info": {
      "name": "python"
    }
  },
  "cells": [
    {
      "cell_type": "markdown",
      "source": [
        "ASSIGNMENT 1\n",
        "CREATE TWO DIFFERENT EXAMPLES FOR COLLECTIVE DATATYPES IN PYTHON"
      ],
      "metadata": {
        "id": "nZBhV3dxjVXP"
      }
    },
    {
      "cell_type": "markdown",
      "source": [
        "DICTIONARY DATA TYPE IN PYTHON\n",
        "EXAMPLE 1\n",
        "\n"
      ],
      "metadata": {
        "id": "0_AmIcBpaB3p"
      }
    },
    {
      "cell_type": "code",
      "execution_count": null,
      "metadata": {
        "colab": {
          "base_uri": "https://localhost:8080/"
        },
        "id": "sXmMSUHmZ6_q",
        "outputId": "544f54f5-867b-4006-87e5-65c9327e053c"
      },
      "outputs": [
        {
          "output_type": "stream",
          "name": "stdout",
          "text": [
            "Empty Dictionary: \n",
            "{}\n"
          ]
        }
      ],
      "source": [
        "#Creating am empty dictionary\n",
        "Dict = {}\n",
        "print(\"Empty Dictionary: \")\n",
        "print(Dict)"
      ]
    },
    {
      "cell_type": "code",
      "source": [
        "# Creating a dictionary\n",
        "# With Integer keys\n",
        "Dict = {1: 'Geeks',2: 'For',3: 'Geeks'}\n",
        "print(\"\\nDictionary with the use of integer keys: \")\n",
        "print(Dict)"
      ],
      "metadata": {
        "colab": {
          "base_uri": "https://localhost:8080/"
        },
        "id": "maXIBkdLa57K",
        "outputId": "a67c77a9-defb-42ac-ab02-d5ba60007961"
      },
      "execution_count": null,
      "outputs": [
        {
          "output_type": "stream",
          "name": "stdout",
          "text": [
            "\n",
            "Dictionary with the use of integer keys: \n",
            "{1: 'Geeks', 2: 'For', 3: 'Geeks'}\n"
          ]
        }
      ]
    },
    {
      "cell_type": "code",
      "source": [
        "# Creating a dictionary\n",
        "# With Mixed Keys\n",
        "Dict = {'Name':'Geeks', 1: [1,2,3,4]}\n",
        "print(\"\\nDictionary with the use of Mixed Keys: \")\n",
        "print(Dict)"
      ],
      "metadata": {
        "colab": {
          "base_uri": "https://localhost:8080/"
        },
        "id": "y2ccvZktb2ry",
        "outputId": "48286550-ea06-4aa4-b354-42cad48f51e1"
      },
      "execution_count": null,
      "outputs": [
        {
          "output_type": "stream",
          "name": "stdout",
          "text": [
            "\n",
            "Dictionary with the use of Mixed Keys: \n",
            "{'Name': 'Geeks', 1: [1, 2, 3, 4]}\n"
          ]
        }
      ]
    },
    {
      "cell_type": "code",
      "source": [
        "# Creating a Dictionary\n",
        "# with dict() method\n",
        "Dict = dict({1: 'Geeks', 2: 'For' , 3: 'Geeks'})\n",
        "print(\"\\nDictionary with the use if dict(:)\")\n",
        "print(Dict)"
      ],
      "metadata": {
        "colab": {
          "base_uri": "https://localhost:8080/"
        },
        "id": "MlgO38x7c94o",
        "outputId": "19008114-63e7-407a-c4f0-ca8e9b34b410"
      },
      "execution_count": null,
      "outputs": [
        {
          "output_type": "stream",
          "name": "stdout",
          "text": [
            "\n",
            "Dictionary with the use if dict(:)\n",
            "{1: 'Geeks', 2: 'For', 3: 'Geeks'}\n"
          ]
        }
      ]
    },
    {
      "cell_type": "code",
      "source": [
        "# Creating a Dictionary\n",
        "# with each item as a pair\n",
        "Dict = dict([(1,'Geeks') , (2,'For')])\n",
        "print(\"\\nDictionary with each item as a pair: \")\n",
        "print(Dict)"
      ],
      "metadata": {
        "colab": {
          "base_uri": "https://localhost:8080/"
        },
        "id": "m4uMFM0neFRi",
        "outputId": "d4feab54-d921-43cf-c4a7-6b92647702a6"
      },
      "execution_count": null,
      "outputs": [
        {
          "output_type": "stream",
          "name": "stdout",
          "text": [
            "\n",
            "Dictionary with each item as a pair: \n",
            "{1: 'Geeks', 2: 'For'}\n"
          ]
        }
      ]
    },
    {
      "cell_type": "markdown",
      "source": [
        "EXAMPLE2"
      ],
      "metadata": {
        "id": "EpW9cMD63wgE"
      }
    },
    {
      "cell_type": "code",
      "source": [
        "# Create a dictionary named capital_city\n",
        "capital_city = {'Nepal':'Kathmandu','Italy':'Rome','England':'London'}\n",
        "print(capital_city)"
      ],
      "metadata": {
        "colab": {
          "base_uri": "https://localhost:8080/"
        },
        "id": "okAonIHJ30NI",
        "outputId": "9a4bb676-bc47-495d-c322-c9b36e3abbc5"
      },
      "execution_count": 3,
      "outputs": [
        {
          "output_type": "stream",
          "name": "stdout",
          "text": [
            "{'Nepal': 'Kathmandu', 'Italy': 'Rome', 'England': 'London'}\n"
          ]
        }
      ]
    },
    {
      "cell_type": "markdown",
      "source": [
        "SET DATATYPE IN PYTHON EXAMPLE 1"
      ],
      "metadata": {
        "id": "AWXhGEtXfVK1"
      }
    },
    {
      "cell_type": "markdown",
      "source": [],
      "metadata": {
        "id": "Rgpf9khN5ZM5"
      }
    },
    {
      "cell_type": "code",
      "source": [
        "# Python program to demonstrate \n",
        "# Creation of set in python\n",
        "# Creating a set\n",
        "set1 = set()\n",
        "print(\"Inital blank set: \")\n",
        "print(set1)"
      ],
      "metadata": {
        "colab": {
          "base_uri": "https://localhost:8080/"
        },
        "id": "vnd2Vofsfngy",
        "outputId": "1077f1db-7223-43bf-9f4f-19ceb84acb3e"
      },
      "execution_count": null,
      "outputs": [
        {
          "output_type": "stream",
          "name": "stdout",
          "text": [
            "Inital blank set: \n",
            "set()\n"
          ]
        }
      ]
    },
    {
      "cell_type": "code",
      "source": [
        "# Creating a set with\n",
        "# the use of a String\n",
        "set1 = set(\"GeeksForGeeks\")\n",
        "print(\"\\nSet with the use of string: \")\n",
        "print(set1)"
      ],
      "metadata": {
        "colab": {
          "base_uri": "https://localhost:8080/"
        },
        "id": "URexHzkcgiV2",
        "outputId": "ce1c271f-248e-44f2-9a78-0b023dea2299"
      },
      "execution_count": null,
      "outputs": [
        {
          "output_type": "stream",
          "name": "stdout",
          "text": [
            "\n",
            "Set with the use of string: \n",
            "{'G', 'k', 'r', 'F', 'e', 's', 'o'}\n"
          ]
        }
      ]
    },
    {
      "cell_type": "code",
      "source": [
        "# Creating a set with\n",
        "# the use of a list\n",
        "set1 = set[\"Geeks\",\"For\",\"Geeks\"]\n",
        "print(\"\\nSet with the use of a List: \")\n",
        "print(set1)"
      ],
      "metadata": {
        "colab": {
          "base_uri": "https://localhost:8080/"
        },
        "id": "DVpsqQwAheuU",
        "outputId": "1a04f429-771d-4210-b685-de1bb8df9f67"
      },
      "execution_count": null,
      "outputs": [
        {
          "output_type": "stream",
          "name": "stdout",
          "text": [
            "\n",
            "Set with the use of a List: \n",
            "set['Geeks', 'For', 'Geeks']\n"
          ]
        }
      ]
    },
    {
      "cell_type": "code",
      "source": [
        "# Creating a set with\n",
        "# a mixed type of values\n",
        "# (Having numbers and strings)\n",
        "set1 = set([1,2, 'Geeks',4, 'For',6, 'Geeks'])\n",
        "print(\"\\nSet with the use of Mixed Values\")\n",
        "print(set1)"
      ],
      "metadata": {
        "colab": {
          "base_uri": "https://localhost:8080/"
        },
        "id": "S_6MIhH3iOG6",
        "outputId": "c31f9b2c-342c-4d92-9e9c-6ea9f8ef8eb9"
      },
      "execution_count": null,
      "outputs": [
        {
          "output_type": "stream",
          "name": "stdout",
          "text": [
            "\n",
            "Set with the use of Mixed Values\n",
            "{1, 2, 4, 6, 'For', 'Geeks'}\n"
          ]
        }
      ]
    },
    {
      "cell_type": "markdown",
      "source": [
        "EXAMPLE2"
      ],
      "metadata": {
        "id": "tMc_94fr8cxF"
      }
    },
    {
      "cell_type": "code",
      "source": [
        "# Create a set named student_id\n",
        "student_id = {112,114,116,118,115}\n",
        "\n",
        "# display student_id elements\n",
        "print(student_id)\n",
        "\n",
        "# display type of student_id\n",
        "print(type(student_id))"
      ],
      "metadata": {
        "colab": {
          "base_uri": "https://localhost:8080/"
        },
        "id": "0etkiWpA8oko",
        "outputId": "4415de4a-c9cb-43aa-bc67-5b9eb0e2567c"
      },
      "execution_count": 6,
      "outputs": [
        {
          "output_type": "stream",
          "name": "stdout",
          "text": [
            "{112, 114, 115, 116, 118}\n",
            "<class 'set'>\n"
          ]
        }
      ]
    },
    {
      "cell_type": "markdown",
      "source": [
        "NUMERIC DATATYPE IN PYTHON EXAMPLE1"
      ],
      "metadata": {
        "id": "cujvrDWBBREu"
      }
    },
    {
      "cell_type": "code",
      "source": [
        "# python program to type\n",
        "# demonstrate numeric value\n",
        "\n",
        "a = 5\n",
        "print(\"Type of a: \",type(a))\n",
        "\n",
        "b = 5.0\n",
        "print(\"\\nType of b: \",type(b))\n",
        "\n",
        "c = 2+4j\n",
        "print(\"\\nType of c: \",type(c))"
      ],
      "metadata": {
        "colab": {
          "base_uri": "https://localhost:8080/"
        },
        "id": "NpW4J8L8BY6x",
        "outputId": "6b9f3901-68d0-44e2-92ad-0621161a13fb"
      },
      "execution_count": 12,
      "outputs": [
        {
          "output_type": "stream",
          "name": "stdout",
          "text": [
            "Type of a:  <class 'int'>\n",
            "\n",
            "Type of b:  <class 'float'>\n",
            "\n",
            "Type of c:  <class 'complex'>\n"
          ]
        }
      ]
    },
    {
      "cell_type": "markdown",
      "source": [
        "EXAMPLE2\n"
      ],
      "metadata": {
        "id": "q76iIArY-PD8"
      }
    },
    {
      "cell_type": "code",
      "source": [
        "num1 = 5\n",
        "print(num1,'is of type',type(num1))\n",
        "\n",
        "num2 = 2.0\n",
        "print(num2,'is of type',type(num2))\n",
        "\n",
        "num3 = 1+2j\n",
        "print(num3,'is of tpe',type(num3))"
      ],
      "metadata": {
        "colab": {
          "base_uri": "https://localhost:8080/"
        },
        "id": "4jiLlbsj-b9r",
        "outputId": "a6099601-d7f2-46b3-bf45-448d20629f53"
      },
      "execution_count": 9,
      "outputs": [
        {
          "output_type": "stream",
          "name": "stdout",
          "text": [
            "5 is of type <class 'int'>\n",
            "2.0 is of type <class 'float'>\n",
            "(1+2j) is of tpe <class 'complex'>\n"
          ]
        }
      ]
    },
    {
      "cell_type": "markdown",
      "source": [
        "There are several sequences types in python they are\n",
        "1.python string\n",
        "2.python list\n",
        "3.python tuple "
      ],
      "metadata": {
        "id": "4JtMOU77_Ya4"
      }
    },
    {
      "cell_type": "markdown",
      "source": [
        "EXAMPLE1"
      ],
      "metadata": {
        "id": "wTScdf0cDAJ-"
      }
    },
    {
      "cell_type": "code",
      "source": [
        "languages = [\"swift\",\"java\",\"python\"]\n",
        "\n",
        "# access element at index 0\n",
        "print(languages[0])    # swift\n",
        "\n",
        "# access element at index 1\n",
        "print(languages[1])    # java\n",
        "\n",
        "# access element at index 2\n",
        "print(languages[2])    # python"
      ],
      "metadata": {
        "colab": {
          "base_uri": "https://localhost:8080/"
        },
        "id": "16WYZmWv_dQ_",
        "outputId": "78887ae8-95a8-4205-dcd3-ff7745b93e1b"
      },
      "execution_count": 11,
      "outputs": [
        {
          "output_type": "stream",
          "name": "stdout",
          "text": [
            "swift\n",
            "java\n",
            "python\n"
          ]
        }
      ]
    },
    {
      "cell_type": "markdown",
      "source": [
        "EXAMPLE2"
      ],
      "metadata": {
        "id": "TGaFvLXXAmk6"
      }
    },
    {
      "cell_type": "code",
      "source": [
        "# python program for \n",
        "# Creation of string\n",
        "# creation of string\n",
        "# with single Quotes\n",
        "string1 = 'Welcome to the Geeks World'\n",
        "print(\"String with the use of Single Quotes: \")\n",
        "print(string1)\n",
        "# creating a string \n",
        "# with double Quotes\n",
        "string1 = \"I'm a Geek\"\n",
        "print(\"\\nstring with the use of Double Quotes: \")\n",
        "print(type(string1))\n",
        "# creating a string\n",
        "# with trile Quotes\n",
        "string1 = '''I'm a Geek and I live in a world of \"Geeks\"'''\n",
        "print(\"\\nstring with the use of Triple Quotes: \")\n",
        "print(string1)\n",
        "print(type(string1))\n",
        "# Creating string with triple \n",
        "# Quotes allows multiple lines\n",
        "string1 = '''Geeks\n",
        "            For\n",
        "            Life'''\n",
        "print(\"\\ncreating a multiple line string: \") \n",
        "print(string1)           "
      ],
      "metadata": {
        "colab": {
          "base_uri": "https://localhost:8080/"
        },
        "id": "1iVOFTedDN1M",
        "outputId": "95d865c1-6312-494c-ff47-27d980b772e9"
      },
      "execution_count": 14,
      "outputs": [
        {
          "output_type": "stream",
          "name": "stdout",
          "text": [
            "String with the use of Single Quotes: \n",
            "Welcome to the Geeks World\n",
            "\n",
            "string with the use of Double Quotes: \n",
            "<class 'str'>\n",
            "\n",
            "string with the use of Triple Quotes: \n",
            "I'm a Geek and I live in a world of \"Geeks\"\n",
            "<class 'str'>\n",
            "\n",
            "creating a multiple line string: \n",
            "Geeks\n",
            "            For\n",
            "            Life\n"
          ]
        }
      ]
    },
    {
      "cell_type": "markdown",
      "source": [
        "BOOLEAN DATATYPE IN PYTHON EXAMPLE1"
      ],
      "metadata": {
        "id": "RWHLp-dlHO5P"
      }
    },
    {
      "cell_type": "code",
      "source": [
        "# python program to \n",
        "# demonstrate boolean type\n",
        "print(type(True))\n",
        "print(type(False))\n",
        "\n",
        "print(type(True))"
      ],
      "metadata": {
        "colab": {
          "base_uri": "https://localhost:8080/"
        },
        "id": "0jvvt-PdHTOB",
        "outputId": "daf45eb1-392e-4c1c-f433-01b73e2c9125"
      },
      "execution_count": 17,
      "outputs": [
        {
          "output_type": "stream",
          "name": "stdout",
          "text": [
            "<class 'bool'>\n",
            "<class 'bool'>\n",
            "<class 'bool'>\n"
          ]
        }
      ]
    },
    {
      "cell_type": "markdown",
      "source": [
        "NOTE - True and False with capital T and F are valid booleans otherwise python will throw an error"
      ],
      "metadata": {
        "id": "ZnLEtxF1IIqS"
      }
    },
    {
      "cell_type": "markdown",
      "source": [],
      "metadata": {
        "id": "uQoQ-6NvIaJL"
      }
    }
  ]
}